{
 "cells": [
  {
   "cell_type": "markdown",
   "metadata": {},
   "source": [
    "<b>Objective function:</b><br>\n",
    "Maximize z=3x1​+5x2<br>\n",
    "<b>Constraints:</b><br>\n",
    "2x1​+3x2​≤12<br>\n",
    "2x1​+x2​≤8<br>\n",
    "x1​,x2​≥0<br>"
   ]
  },
  {
   "cell_type": "markdown",
   "metadata": {},
   "source": [
    "First, import necessary packages:"
   ]
  },
  {
   "cell_type": "code",
   "execution_count": 3,
   "metadata": {},
   "outputs": [],
   "source": [
    "import tensorflow as tf\n",
    "from keras import layers, models\n",
    "import numpy as np"
   ]
  },
  {
   "cell_type": "markdown",
   "metadata": {},
   "source": [
    "Then we need to define the neural network model:"
   ]
  },
  {
   "cell_type": "code",
   "execution_count": 4,
   "metadata": {},
   "outputs": [],
   "source": [
    "model = models.Sequential([\n",
    "    layers.Dense(64, activation='relu', input_shape=(2,)),\n",
    "    layers.Dense(64, activation='relu'),\n",
    "    layers.Dense(2, activation='linear')  # 2 outputs, for x1 and x2\n",
    "])"
   ]
  },
  {
   "cell_type": "markdown",
   "metadata": {},
   "source": [
    "Now we need to create a function to return a loss value. In this function we will model the objective function and constraints as well:"
   ]
  },
  {
   "cell_type": "code",
   "execution_count": 5,
   "metadata": {},
   "outputs": [],
   "source": [
    "def lp_loss(y_true, y_pred):\n",
    "    x1, x2 = y_pred[:, 0], y_pred[:, 1]\n",
    "\n",
    "    # Objective function: -maximize 3*x1 + 5*x2\n",
    "    objective = -1 * (3 * x1 + 5 * x2) \n",
    "\n",
    "    # Define penalties for constraints\n",
    "    constraint1 = tf.maximum(12.0, 2 * x1 + 3 * x2)  # 2*x1 + 3*x2 <= 12\n",
    "    constraint2 = tf.maximum(8.0, 2 * x1 + x2)       # 2*x1 + x2 <= 8\n",
    "    constraint3 = tf.maximum(0.0, -x1)                   # x1 >= 0\n",
    "    constraint4 = tf.maximum(0.0, -x2)                   # x2 >= 0\n",
    "\n",
    "    # Sum up the objective and constraint penalties\n",
    "    loss = objective + 100 * (constraint1 + constraint2 + constraint3 + constraint4)\n",
    "    return loss"
   ]
  },
  {
   "cell_type": "markdown",
   "metadata": {},
   "source": [
    "Compile the model using a low learning rate so we have gradual optimisation:"
   ]
  },
  {
   "cell_type": "code",
   "execution_count": 6,
   "metadata": {},
   "outputs": [],
   "source": [
    "model.compile(optimizer=tf.keras.optimizers.Adam(learning_rate=0.01), loss=lp_loss)"
   ]
  },
  {
   "cell_type": "markdown",
   "metadata": {},
   "source": [
    "Create some training data and train the model:"
   ]
  },
  {
   "cell_type": "code",
   "execution_count": 9,
   "metadata": {},
   "outputs": [],
   "source": [
    "x_train = np.random.rand(100, 2)\n",
    "y_train = np.zeros((100, 2))\n",
    "\n",
    "# Train the model\n",
    "history = model.fit(x_train, y_train, epochs=500, verbose=0)"
   ]
  },
  {
   "cell_type": "markdown",
   "metadata": {},
   "source": [
    "Predict and get the final values of x1, x2:"
   ]
  },
  {
   "cell_type": "code",
   "execution_count": 10,
   "metadata": {},
   "outputs": [
    {
     "name": "stdout",
     "output_type": "stream",
     "text": [
      "\u001b[1m1/1\u001b[0m \u001b[32m━━━━━━━━━━━━━━━━━━━━\u001b[0m\u001b[37m\u001b[0m \u001b[1m0s\u001b[0m 41ms/step\n",
      "Optimized values: x1 = 0.26608378 , x2 = 3.4073927\n",
      "Objective value: 17.835217\n"
     ]
    }
   ],
   "source": [
    "solution = model.predict(np.array([[0.5, 0.5]])) \n",
    "x1, x2 = solution[0]\n",
    "objective_value = 3 * x1 + 5 * x2\n",
    "\n",
    "print(\"Optimized values: x1 =\", x1, \", x2 =\", x2)\n",
    "print(\"Objective value:\", objective_value)"
   ]
  }
 ],
 "metadata": {
  "kernelspec": {
   "display_name": "venv",
   "language": "python",
   "name": "python3"
  },
  "language_info": {
   "codemirror_mode": {
    "name": "ipython",
    "version": 3
   },
   "file_extension": ".py",
   "mimetype": "text/x-python",
   "name": "python",
   "nbconvert_exporter": "python",
   "pygments_lexer": "ipython3",
   "version": "3.12.7"
  }
 },
 "nbformat": 4,
 "nbformat_minor": 2
}
